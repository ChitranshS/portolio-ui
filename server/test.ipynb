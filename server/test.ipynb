{
 "cells": [
  {
   "cell_type": "code",
   "execution_count": 1,
   "metadata": {},
   "outputs": [
    {
     "name": "stdout",
     "output_type": "stream",
     "text": [
      "{'detail': 'Method Not Allowed'}\n"
     ]
    }
   ],
   "source": [
    "import requests\n",
    "import json\n",
    "def chat():\n",
    "    url = \"https://resume-api-242842293866.asia-south1.run.app/\"\n",
    "    headers = {\n",
    "        \"Content-Type\": \"application/json\"\n",
    "    }\n",
    "    data = {\n",
    "        \"query\": \"Is he gay?\",\n",
    "        \"id\":123\n",
    "    }\n",
    "    \n",
    "    response = requests.post(url , headers=headers, data=json.dumps(data))\n",
    "    print(response.json())\n",
    "chat()"
   ]
  },
  {
   "cell_type": "code",
   "execution_count": 14,
   "metadata": {},
   "outputs": [
    {
     "name": "stdout",
     "output_type": "stream",
     "text": [
      "Query: What is your best quality?\n",
      "\n",
      "For me, it's my ability to learn and adapt quickly to new technologies and challenges. Whether it's diving into the latest AI frameworks or exploring cutting-edge data science techniques, I thrive on continuous learning and applying that knowledge to real-world problems. This mindset has helped me excel in my roles at GoMarble.ai and Larsen & Toubro Defence, and I believe it's a key quality that can bring value to any team.\n"
     ]
    }
   ],
   "source": [
    "import requests\n",
    "import json\n",
    "def chat():\n",
    "    url = \"http://localhost:8000/chat\"\n",
    "    headers = {\n",
    "        \"Content-Type\": \"application/json\"\n",
    "    }\n",
    "    data = {\n",
    "        \"query\": \"What is your best quality?\",\n",
    "        \"id\":123\n",
    "    }\n",
    "    \n",
    "    response = requests.post(url , headers=headers, data=json.dumps(data))\n",
    "    res = response.json()\n",
    "    print(res['response'])\n",
    "chat()"
   ]
  },
  {
   "cell_type": "code",
   "execution_count": null,
   "metadata": {},
   "outputs": [],
   "source": []
  },
  {
   "cell_type": "markdown",
   "metadata": {},
   "source": [
    "# Add Resume Endpoint"
   ]
  },
  {
   "cell_type": "code",
   "execution_count": 3,
   "metadata": {},
   "outputs": [
    {
     "name": "stdout",
     "output_type": "stream",
     "text": [
      "\n",
      "Testing resume endpoint:\n",
      "Status Code: 404\n",
      "Response: {'detail': {'status': 'Invalid Fields', 'error': 'Not Allowed'}}\n"
     ]
    }
   ],
   "source": [
    "def make_request_with_requests():\n",
    "    url = \"http://localhost:8000/add_resume\"\n",
    "    headers = {\n",
    "        \"Content-Type\": \"application/json\"\n",
    "    }\n",
    "    data = {\n",
    "        \"url\": \"https://example.com/resume.pdf\",\n",
    "        \"user\": \"testuser\",\n",
    "        \"auth\": \"auth123\"\n",
    "    }\n",
    "    \n",
    "    response = requests.post(url , headers=headers, data=json.dumps(data))\n",
    "    print(\"Status Code:\", response.status_code)\n",
    "    print(\"Response:\", response.json())\n",
    "\n",
    "if __name__ == \"__main__\":\n",
    "    print(\"\\nTesting resume endpoint:\")\n",
    "    make_request_with_requests()"
   ]
  },
  {
   "cell_type": "code",
   "execution_count": null,
   "metadata": {},
   "outputs": [],
   "source": []
  },
  {
   "cell_type": "code",
   "execution_count": null,
   "metadata": {},
   "outputs": [],
   "source": [
    "PROJECT_ID = \"headless-utils\""
   ]
  }
 ],
 "metadata": {
  "kernelspec": {
   "display_name": "Python 3",
   "language": "python",
   "name": "python3"
  },
  "language_info": {
   "codemirror_mode": {
    "name": "ipython",
    "version": 3
   },
   "file_extension": ".py",
   "mimetype": "text/x-python",
   "name": "python",
   "nbconvert_exporter": "python",
   "pygments_lexer": "ipython3",
   "version": "3.10.12"
  }
 },
 "nbformat": 4,
 "nbformat_minor": 2
}
