{
 "cells": [
  {
   "cell_type": "code",
   "execution_count": 62,
   "metadata": {},
   "outputs": [
    {
     "name": "stdout",
     "output_type": "stream",
     "text": [
      "{'query': 'Is he gay?', 'id': 123, 'response': \"I'm happy to help answer questions about my professional background and experience, but I must politely point out that this conversation must be strictly professional and not personal. I'm comfortable discussing my skills, education, and work experience, but I'd prefer not to answer questions that are of a personal nature.\\n\\nIf you're interested in learning more about my qualifications or how I can contribute to your team, I'd be happy to share more information about my experience and skills. For example, I can talk about my work with AI and machine learning, my experience with cloud platforms like AWS and GCP, or my proficiency with programming languages like Python and JavaScript.\\n\\nLet me know if there's anything specific you'd like to know, and I'll do my best to provide a helpful and professional response.\", 'status': 'Request processed successfully'}\n"
     ]
    }
   ],
   "source": [
    "import requests\n",
    "import json\n",
    "def chat():\n",
    "    url = \"http://localhost:8000/chat\"\n",
    "    headers = {\n",
    "        \"Content-Type\": \"application/json\"\n",
    "    }\n",
    "    data = {\n",
    "        \"query\": \"Is he gay?\",\n",
    "        \"id\":123\n",
    "    }\n",
    "    \n",
    "    response = requests.post(url , headers=headers, data=json.dumps(data))\n",
    "    print(response.json())\n",
    "chat()"
   ]
  },
  {
   "cell_type": "code",
   "execution_count": null,
   "metadata": {},
   "outputs": [],
   "source": []
  },
  {
   "cell_type": "markdown",
   "metadata": {},
   "source": [
    "# Add Resume Endpoint"
   ]
  },
  {
   "cell_type": "code",
   "execution_count": 3,
   "metadata": {},
   "outputs": [
    {
     "name": "stdout",
     "output_type": "stream",
     "text": [
      "\n",
      "Testing resume endpoint:\n",
      "Status Code: 404\n",
      "Response: {'detail': {'status': 'Invalid Fields', 'error': 'Not Allowed'}}\n"
     ]
    }
   ],
   "source": [
    "def make_request_with_requests():\n",
    "    url = \"http://localhost:8000/add_resume\"\n",
    "    headers = {\n",
    "        \"Content-Type\": \"application/json\"\n",
    "    }\n",
    "    data = {\n",
    "        \"url\": \"https://example.com/resume.pdf\",\n",
    "        \"user\": \"testuser\",\n",
    "        \"auth\": \"auth123\"\n",
    "    }\n",
    "    \n",
    "    response = requests.post(url , headers=headers, data=json.dumps(data))\n",
    "    print(\"Status Code:\", response.status_code)\n",
    "    print(\"Response:\", response.json())\n",
    "\n",
    "if __name__ == \"__main__\":\n",
    "    print(\"\\nTesting resume endpoint:\")\n",
    "    make_request_with_requests()"
   ]
  },
  {
   "cell_type": "code",
   "execution_count": null,
   "metadata": {},
   "outputs": [],
   "source": []
  },
  {
   "cell_type": "code",
   "execution_count": null,
   "metadata": {},
   "outputs": [],
   "source": [
    "PROJECT_ID = \"headless-utils\""
   ]
  }
 ],
 "metadata": {
  "kernelspec": {
   "display_name": "Python 3",
   "language": "python",
   "name": "python3"
  },
  "language_info": {
   "codemirror_mode": {
    "name": "ipython",
    "version": 3
   },
   "file_extension": ".py",
   "mimetype": "text/x-python",
   "name": "python",
   "nbconvert_exporter": "python",
   "pygments_lexer": "ipython3",
   "version": "3.10.12"
  }
 },
 "nbformat": 4,
 "nbformat_minor": 2
}
